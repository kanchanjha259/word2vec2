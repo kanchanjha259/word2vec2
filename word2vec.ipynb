{
  "nbformat": 4,
  "nbformat_minor": 0,
  "metadata": {
    "colab": {
      "provenance": [],
      "authorship_tag": "ABX9TyNghiOURP1OcVCs6LHQWKzc",
      "include_colab_link": true
    },
    "kernelspec": {
      "name": "python3",
      "display_name": "Python 3"
    },
    "language_info": {
      "name": "python"
    }
  },
  "cells": [
    {
      "cell_type": "markdown",
      "metadata": {
        "id": "view-in-github",
        "colab_type": "text"
      },
      "source": [
        "<a href=\"https://colab.research.google.com/github/kanchanjha259/word2vec2/blob/main/word2vec.ipynb\" target=\"_parent\"><img src=\"https://colab.research.google.com/assets/colab-badge.svg\" alt=\"Open In Colab\"/></a>"
      ]
    },
    {
      "cell_type": "code",
      "execution_count": 1,
      "metadata": {
        "colab": {
          "base_uri": "https://localhost:8080/"
        },
        "id": "-5DGqLYUT-m0",
        "outputId": "dd895988-928a-4dcf-939c-a11b1cc6b9c4"
      },
      "outputs": [
        {
          "output_type": "stream",
          "name": "stderr",
          "text": [
            "[nltk_data] Downloading package punkt_tab to /root/nltk_data...\n",
            "[nltk_data]   Unzipping tokenizers/punkt_tab.zip.\n",
            "[nltk_data] Downloading package punkt to /root/nltk_data...\n",
            "[nltk_data]   Unzipping tokenizers/punkt.zip.\n"
          ]
        },
        {
          "output_type": "stream",
          "name": "stdout",
          "text": [
            "Similarity between 'Dog' and 'Cat': 0.06408979743719101\n",
            "Similarity between 'is' and 'cute': -0.010894924402236938\n"
          ]
        }
      ],
      "source": [
        "from gensim.models import Word2Vec\n",
        "from nltk.tokenize import word_tokenize\n",
        "import nltk\n",
        "nltk.download('punkt_tab')\n",
        "# Ensure NLTK's tokenizer dependencies are downloaded\n",
        "try:\n",
        "    nltk.data.find('tokenizers/punkt')\n",
        "except LookupError:\n",
        "    nltk.download('punkt')\n",
        "\n",
        "# Input sentence\n",
        "sentence = \"this is a cute Dog . My Cat is cute\"\n",
        "\n",
        "# Convert sentence to lowercase and tokenize\n",
        "words = word_tokenize(sentence.lower())  # Convert to lowercase for consistency\n",
        "\n",
        "# Prepare data for Word2Vec\n",
        "# Word2Vec requires a list of tokenized sentences, even if it's just one sentence\n",
        "sentences = [words]\n",
        "\n",
        "# Train Word2Vec model\n",
        "model = Word2Vec(sentences, vector_size=100, window=3, min_count=1, sg=0)\n",
        "\n",
        "# Get similarity between \"dog\" and \"cat\", and \"is\" and \"cute\"\n",
        "similarity_dog_cat = model.wv.similarity(\"dog\", \"cat\")\n",
        "similarity_is_cute = model.wv.similarity(\"is\", \"cute\")\n",
        "\n",
        "print(f\"Similarity between 'Dog' and 'Cat': {similarity_dog_cat}\")\n",
        "print(f\"Similarity between 'is' and 'cute': {similarity_is_cute}\")\n"
      ]
    }
  ]
}